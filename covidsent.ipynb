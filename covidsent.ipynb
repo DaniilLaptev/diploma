{
 "cells": [
  {
   "cell_type": "markdown",
   "metadata": {},
   "source": [
    "---\n",
    "## Проанализируем датасет"
   ]
  },
  {
   "cell_type": "code",
   "execution_count": null,
   "metadata": {},
   "outputs": [],
   "source": [
    "import re\n",
    "import pandas as pd\n",
    "\n",
    "train_dataset = pd.read_csv('./Corona_NLP_train.csv', encoding = \"ISO-8859-1\")\n",
    "test_dataset = pd.read_csv('./Corona_NLP_test.csv', encoding = \"ISO-8859-1\")\n",
    "\n",
    "to_drop = ['UserName', 'ScreenName', 'Location', 'TweetAt']\n",
    "\n",
    "train_dataset = train_dataset.drop(columns=to_drop).sample(frac=1, random_state=42) # shuffle rows\n",
    "test_dataset = test_dataset.drop(columns=to_drop)\n",
    "\n",
    "def clean_text(text):\n",
    "    text = text.lower()\n",
    "    hashtags = \"#[\\S]+\"\n",
    "    mentions = \"@[\\S]+\"\n",
    "    url = \"https?://[A-z0-9_%/\\-\\.]+[A-z0-9_\\.\\-\\?&=%]+\"\n",
    "    text = re.sub(url,\"\",text)\n",
    "    text = re.sub(hashtags,\"\",text)\n",
    "    text = re.sub(mentions,\"\",text)\n",
    "    puntuations = \"[\\.\\?!,;:]+\"\n",
    "    text = re.sub(puntuations,\"\",text)\n",
    "    return text\n",
    "\n",
    "map = {\n",
    "    'Extremely Negative': 0,\n",
    "    'Negative': 1,\n",
    "    'Neutral': 2,\n",
    "    'Positive': 3,\n",
    "    'Extremely Positive': 4\n",
    "}\n",
    "\n",
    "revmap = {\n",
    "    0: 'Extremely Negative',\n",
    "    1: 'Negative',\n",
    "    2: 'Neutral',\n",
    "    3: 'Positive',\n",
    "    4: 'Extremely Positive'\n",
    "}\n",
    "\n",
    "train_dataset['OriginalTweet'] = train_dataset['OriginalTweet'].apply(lambda x: clean_text(x))\n",
    "test_dataset['OriginalTweet'] = test_dataset['OriginalTweet'].apply(lambda x: clean_text(x))\n",
    "\n",
    "train_dataset"
   ]
  },
  {
   "cell_type": "code",
   "execution_count": null,
   "metadata": {},
   "outputs": [],
   "source": [
    "import seaborn as sns\n",
    "sns.set(rc={'figure.figsize':(11,5)})\n",
    "sns.countplot(data=train_dataset, x='Sentiment', width=0.5)"
   ]
  },
  {
   "cell_type": "code",
   "execution_count": null,
   "metadata": {},
   "outputs": [],
   "source": [
    "train_dataset['Sentiment'] = train_dataset['Sentiment'].apply(lambda x: map[x])\n",
    "test_dataset['Sentiment'] = test_dataset['Sentiment'].apply(lambda x: map[x])"
   ]
  },
  {
   "cell_type": "code",
   "execution_count": null,
   "metadata": {},
   "outputs": [],
   "source": [
    "import seaborn as sns\n",
    "sns.set(rc={'figure.figsize':(11,5)})\n",
    "sns.countplot(data=test_dataset, x='Sentiment', width=0.5)"
   ]
  },
  {
   "cell_type": "code",
   "execution_count": null,
   "metadata": {},
   "outputs": [],
   "source": [
    "train_dataset['OriginalTweet'].str.len().plot(kind='kde')"
   ]
  },
  {
   "attachments": {},
   "cell_type": "markdown",
   "metadata": {},
   "source": [
    "---\n",
    "## Реализуем бейзлайн с помощью классических методов обучения"
   ]
  },
  {
   "cell_type": "code",
   "execution_count": null,
   "metadata": {},
   "outputs": [],
   "source": [
    "from sklearn.feature_extraction.text import TfidfVectorizer\n",
    "from sklearn.metrics import f1_score\n",
    "\n",
    "vectorizer = TfidfVectorizer()\n",
    "\n",
    "x = train_dataset['OriginalTweet']\n",
    "y = train_dataset['Sentiment']\n",
    "\n",
    "x_test = test_dataset['OriginalTweet']\n",
    "y_test = test_dataset['Sentiment']\n",
    "\n",
    "X_train = vectorizer.fit_transform(x)\n",
    "X_test = vectorizer.transform(x_test)\n",
    "\n",
    "targets = [revmap[label] for label in sorted(y.unique())]"
   ]
  },
  {
   "cell_type": "markdown",
   "metadata": {},
   "source": [
    "### 1. Логистическая регрессия"
   ]
  },
  {
   "cell_type": "code",
   "execution_count": null,
   "metadata": {},
   "outputs": [],
   "source": [
    "from sklearn.linear_model import LogisticRegression\n",
    "from sklearn.metrics import classification_report\n",
    "\n",
    "logreg = LogisticRegression(n_jobs=4, C=1e5, solver='saga',\n",
    "                            multi_class='multinomial', random_state=42)\n",
    "\n",
    "logreg.fit(X_train, y)\n",
    "print(classification_report(y_test, logreg.predict(X_test), target_names=targets))"
   ]
  },
  {
   "cell_type": "markdown",
   "metadata": {},
   "source": [
    "### 2. Библиотека градиентного бустинга CatBoost "
   ]
  },
  {
   "cell_type": "code",
   "execution_count": null,
   "metadata": {},
   "outputs": [],
   "source": [
    "from sklearn.pipeline import Pipeline\n",
    "from catboost import CatBoostClassifier\n",
    "from sklearn.feature_extraction.text import TfidfVectorizer\n",
    "from sklearn.metrics import classification_report\n",
    "\n",
    "clf = CatBoostClassifier(\n",
    "        task_type='GPU',\n",
    "        iterations=500, \n",
    "        learning_rate=0.35,\n",
    "        loss_function='MultiClass'\n",
    "        )\n",
    "\n",
    "clf.fit(X_train, y, plot=True, verbose=50)\n",
    "print(classification_report(y_test, clf.predict(X_test), target_names=targets))"
   ]
  },
  {
   "cell_type": "code",
   "execution_count": null,
   "metadata": {},
   "outputs": [],
   "source": [
    "print('Logreg: ', f1_score(y_test, logreg.predict(X_test), average='weighted'))\n",
    "print('Catboost: ', f1_score(y_test, clf.predict(X_test), average='weighted'))"
   ]
  },
  {
   "attachments": {},
   "cell_type": "markdown",
   "metadata": {},
   "source": [
    "---\n",
    "## Опишем модель и датасет с помощью PyTorch"
   ]
  },
  {
   "cell_type": "code",
   "execution_count": null,
   "metadata": {},
   "outputs": [],
   "source": [
    "import torch\n",
    "from torch import nn\n",
    "from prettytable import PrettyTable\n",
    "from transformers import AutoModel, AutoTokenizer\n",
    "\n",
    "class EncoderForSequenceClassification(nn.Module):\n",
    "    def __init__(self, model_name, classes, learn='all'):\n",
    "        super(EncoderForSequenceClassification, self).__init__()\n",
    "\n",
    "        self.encoder = AutoModel.from_pretrained(model_name)\n",
    "        self.classifier = nn.Linear(self.encoder.config.hidden_size, classes)\n",
    "\n",
    "        if learn == 'classifier':\n",
    "            for param in self.encoder.parameters():\n",
    "                param.requires_grad = False\n",
    "\n",
    "    def forward(self, input_ids, attention_mask=None, labels=None):\n",
    "        outputs = self.encoder(\n",
    "            input_ids,\n",
    "            attention_mask=attention_mask\n",
    "        )\n",
    "        \n",
    "        pooled_output = outputs[1]\n",
    "        predicts = self.classifier(pooled_output)\n",
    "        predicts = nn.Softmax(dim=-1)(predicts)\n",
    "        \n",
    "        loss_fn = nn.CrossEntropyLoss()\n",
    "        return {\n",
    "            'predicts': predicts,\n",
    "            'loss': loss_fn(predicts, labels) if labels is not None else None\n",
    "        }\n",
    "\n",
    "def count_parameters(model):\n",
    "    table = PrettyTable([\"Modules\", \"Parameters\"])\n",
    "    total_params = 0\n",
    "    for name, parameter in model.named_parameters():\n",
    "        if not parameter.requires_grad: continue\n",
    "        params = parameter.numel()\n",
    "        table.add_row([name, params])\n",
    "        total_params+=params\n",
    "    print(table)\n",
    "    print(f\"Total Trainable Params: {total_params}\")\n",
    "    return total_params\n",
    "\n",
    "model_name = [\n",
    "    'prajjwal1/bert-tiny',\n",
    "    'prajjwal1/bert-medium',\n",
    "    'sentence-transformers/all-MiniLM-L6-v2',\n",
    "    'sentence-transformers/all-distilroberta-v1',\n",
    "    'albert-base-v2'\n",
    "    ][2]\n",
    "tokenizer = AutoTokenizer.from_pretrained(model_name)\n",
    "device = torch.device('cuda') if torch.cuda.is_available() else torch.device('cpu')"
   ]
  },
  {
   "cell_type": "code",
   "execution_count": null,
   "metadata": {},
   "outputs": [],
   "source": [
    "from torch.utils.data import DataLoader, Dataset\n",
    "from sklearn.preprocessing import OneHotEncoder\n",
    "ohe = OneHotEncoder(sparse=False)\n",
    "\n",
    "class TwitterDataset(Dataset):\n",
    "    def __init__(self, set) -> None:\n",
    "        super(TwitterDataset, self).__init__()\n",
    "        self.input_ids = set['input_ids']\n",
    "        # self.token_type_ids = set['token_type_ids']\n",
    "        self.attention_mask = set['attention_mask']\n",
    "        self.labels = set['labels']\n",
    "    \n",
    "    def __len__(self):\n",
    "        return len(self.labels)\n",
    "    \n",
    "    def __getitem__(self, index):\n",
    "        return {\n",
    "        'input_ids': self.input_ids[index],\n",
    "        # 'token_type_ids': self.token_type_ids[index],\n",
    "        'attention_mask': self.attention_mask[index],\n",
    "        'labels': self.labels[index]\n",
    "    }\n",
    "\n",
    "def dset(set):\n",
    "    tweets = set['OriginalTweet'].to_list()\n",
    "    tokenized = tokenizer(tweets, return_tensors='pt', padding='max_length', truncation=True, max_length=80)\n",
    "\n",
    "    return {\n",
    "        'input_ids': tokenized['input_ids'],\n",
    "        # 'token_type_ids': tokenized['token_type_ids'],\n",
    "        'attention_mask': tokenized['attention_mask'],\n",
    "        'labels': ohe.fit_transform(set['Sentiment'].to_numpy().reshape(-1, 1))\n",
    "    }\n",
    "\n",
    "train_set = DataLoader(TwitterDataset(dset(train_dataset)), batch_size=32)\n",
    "test_set = DataLoader(TwitterDataset(dset(test_dataset)), batch_size=64)"
   ]
  },
  {
   "attachments": {},
   "cell_type": "markdown",
   "metadata": {},
   "source": [
    "---\n",
    "## Определим количество токенов в каждом твите"
   ]
  },
  {
   "cell_type": "code",
   "execution_count": null,
   "metadata": {},
   "outputs": [],
   "source": [
    "import seaborn as sns\n",
    "sns.set(rc={'figure.figsize':(11,5)})\n",
    "sns.displot((train_set.dataset.attention_mask != 0).sum(dim=1))"
   ]
  },
  {
   "cell_type": "markdown",
   "metadata": {},
   "source": [
    "Определив количество токенов, мы поставим ограничение в 80 токенов в функцию токенизации, там, где формируется датасет. Таким образом модель будет работать быстрее."
   ]
  },
  {
   "attachments": {},
   "cell_type": "markdown",
   "metadata": {},
   "source": [
    "---\n",
    "## Тренировка модели"
   ]
  },
  {
   "cell_type": "code",
   "execution_count": null,
   "metadata": {},
   "outputs": [],
   "source": [
    "import torch\n",
    "import numpy as np\n",
    "from tqdm import tqdm, trange\n",
    "import matplotlib.pyplot as plt\n",
    "from torch.optim import AdamW, lr_scheduler\n",
    "from sklearn.metrics import classification_report\n",
    "\n",
    "def train(model, loader, epochs, lr):\n",
    "    optimizer = AdamW(model.parameters(), lr=lr)\n",
    "    criterion = nn.CrossEntropyLoss()\n",
    "    scheduler = lr_scheduler.OneCycleLR(\n",
    "        optimizer=optimizer, \n",
    "        total_steps=len(loader)*epochs,\n",
    "        max_lr=4e-4\n",
    "        )\n",
    "\n",
    "    model.train()\n",
    "    \n",
    "    losses = []\n",
    "    pbar, step = tqdm(range(len(loader) * epochs)), 0\n",
    " \n",
    "    for epoch in range(epochs):\n",
    "        for batch in loader:\n",
    "            batch = {k: v.to(device) for k, v in batch.items()}\n",
    "            output = model(**batch)\n",
    "\n",
    "            loss = output['loss']\n",
    "            losses.append(loss.item())\n",
    "            pbar.set_description(f'Epoch: {epoch+1}, training loss: {loss.item():0.5f}, lr: {scheduler.get_last_lr()}')\n",
    "\n",
    "            loss.backward()\n",
    "\n",
    "            optimizer.step()\n",
    "            optimizer.zero_grad()\n",
    "\n",
    "            step +=1\n",
    "            pbar.update(1)\n",
    "        scheduler.step()\n",
    "\n",
    "    return losses\n",
    "\n",
    "def evaluate(model, set):\n",
    "    pred, true = [], []\n",
    "\n",
    "    model.eval()\n",
    "    with torch.no_grad():\n",
    "        for batch in tqdm(set):\n",
    "            batch = {k: v.to(device) for k, v in batch.items()}\n",
    "            output = model(**batch)\n",
    "            pred.extend(torch.argmax(output['predicts'].cpu(), dim=-1))\n",
    "            true.extend(torch.argmax(batch['labels'].cpu(), dim=-1))\n",
    "    pred = np.array(pred)\n",
    "    true = np.array(true)\n",
    "\n",
    "    return true, pred"
   ]
  },
  {
   "cell_type": "code",
   "execution_count": null,
   "metadata": {},
   "outputs": [],
   "source": [
    "encoder = EncoderForSequenceClassification(\n",
    "    model_name, \n",
    "    train_dataset['Sentiment'].nunique()\n",
    "    ).to(device)\n",
    "\n",
    "losses = train(encoder, train_set, epochs=3, lr=1e-4)\n",
    "plt.plot(torch.arange(len(losses)), losses)"
   ]
  },
  {
   "cell_type": "code",
   "execution_count": null,
   "metadata": {},
   "outputs": [],
   "source": [
    "torch.save(encoder, f'./models/all-MiniLM-L6-v2_ep3_lr1e-4.pt')"
   ]
  },
  {
   "cell_type": "code",
   "execution_count": null,
   "metadata": {},
   "outputs": [],
   "source": [
    "encoder = torch.load('./models/all-MiniLM-L6-v2_ep3_lr1e-4.pt')"
   ]
  },
  {
   "cell_type": "code",
   "execution_count": null,
   "metadata": {},
   "outputs": [],
   "source": [
    "true, pred = evaluate(encoder, test_set)\n",
    "print(classification_report(true, pred, target_names=targets))"
   ]
  },
  {
   "cell_type": "code",
   "execution_count": null,
   "metadata": {},
   "outputs": [],
   "source": [
    "true, pred = evaluate(encoder, test_set)\n",
    "print('F1 Weighted: ', f1_score(true, pred, average='weighted'))"
   ]
  },
  {
   "cell_type": "code",
   "execution_count": null,
   "metadata": {},
   "outputs": [],
   "source": [
    "from sklearn.metrics import confusion_matrix\n",
    "conf_mat = confusion_matrix([revmap[x] for x in true], [revmap[x] for x in pred])\n",
    "conf_mat_normalized = conf_mat.astype('float') / conf_mat.sum(axis=1)[:, np.newaxis]\n",
    "sns.heatmap(conf_mat_normalized, annot=True, linewidth=.5, cmap=\"crest\")\n",
    "plt.ylabel('True label')\n",
    "plt.xlabel('Predicted label')\n",
    "plt.show()"
   ]
  },
  {
   "attachments": {},
   "cell_type": "markdown",
   "metadata": {},
   "source": [
    "---\n",
    "## Смотрим на эмбеддинги до тренировки"
   ]
  },
  {
   "cell_type": "code",
   "execution_count": null,
   "metadata": {},
   "outputs": [],
   "source": [
    "import numpy as np\n",
    "import pandas as pd\n",
    "import seaborn as sns\n",
    "from tqdm import tqdm\n",
    "import plotly.express as px\n",
    "from sklearn.decomposition import PCA\n",
    "\n",
    "def make_embeds(model, loader):\n",
    "    size = len(loader.dataset.input_ids)\n",
    "    embs = torch.rand((size, model.config.hidden_size), dtype=torch.float32)\n",
    "\n",
    "    with torch.no_grad():\n",
    "        i = 0\n",
    "        for batch in tqdm(loader):\n",
    "            batch = {k: v.to(device) for k, v in batch.items() if k != 'labels'}\n",
    "            embedding = model(**batch)\n",
    "            embs[i:i+loader.batch_size] = embedding[1].to('cpu')\n",
    "            i+=loader.batch_size\n",
    "\n",
    "    return embs.detach().numpy()\n",
    "\n",
    "def plot_embeddings(embeddings, labels):\n",
    "    pca = PCA(n_components=2, svd_solver='full')\n",
    "    reduced = pca.fit_transform(embeddings)\n",
    "\n",
    "    df = pd.DataFrame(reduced, columns=['x1', 'x2'])\n",
    "    df['labels'] = labels\n",
    "\n",
    "    sns.set(rc={'figure.figsize':(10,10)})\n",
    "    return sns.scatterplot(df, x='x1', y='x2', hue='labels', palette='rocket', hue_order=targets, linewidth=0, s=15)"
   ]
  },
  {
   "cell_type": "code",
   "execution_count": null,
   "metadata": {},
   "outputs": [],
   "source": [
    "model = EncoderForSequenceClassification(\n",
    "    model_name,\n",
    "    train_dataset['Sentiment'].nunique()\n",
    ").to(device)\n",
    "model.eval()\n",
    "\n",
    "train_embeddings = make_embeds(model.encoder, train_set)\n",
    "plot_embeddings(train_embeddings, [revmap[x] for x in train_dataset['Sentiment']])"
   ]
  },
  {
   "cell_type": "code",
   "execution_count": null,
   "metadata": {},
   "outputs": [],
   "source": [
    "logreg = LogisticRegression()\n",
    "\n",
    "logreg.fit(train_embeddings, train_dataset['Sentiment'])\n",
    "print(classification_report(test_dataset['Sentiment'], logreg.predict(test_embeddings), target_names=targets))\n",
    "print(f1_score(test_dataset['Sentiment'], logreg.predict(test_embeddings), average='weighted'))"
   ]
  },
  {
   "cell_type": "code",
   "execution_count": null,
   "metadata": {},
   "outputs": [],
   "source": [
    "catboost = CatBoostClassifier(\n",
    "        task_type='GPU',\n",
    "        iterations=50,\n",
    "        learning_rate=0.35,\n",
    "        loss_function='MultiClass'\n",
    "        )\n",
    "\n",
    "logreg.fit(embeddings, train_dataset['Sentiment'])\n",
    "print(classification_report(test_dataset['Sentiment'], logreg.predict(test_embs), target_names=targets))\n",
    "print(f1_score(test_dataset['Sentiment'], logreg.predict(test_embs), average='weighted'))"
   ]
  },
  {
   "cell_type": "markdown",
   "metadata": {},
   "source": [
    "---\n",
    "## Используем эмбеддинги обученной модели для классификации классическими методами"
   ]
  },
  {
   "cell_type": "code",
   "execution_count": null,
   "metadata": {},
   "outputs": [],
   "source": [
    "model = torch.load('./models/all-MiniLM-L6-v2_ep3_lr1e-4.pt')\n",
    "\n",
    "train_embs = make_embeds(\n",
    "    model.encoder,\n",
    "    train_set\n",
    ")\n",
    "test_embs = make_embeds(\n",
    "    model.encoder,\n",
    "    test_set\n",
    ")\n",
    "\n",
    "plot_embeddings(train_embs, [revmap[x] for x in train_dataset['Sentiment']])"
   ]
  },
  {
   "cell_type": "code",
   "execution_count": null,
   "metadata": {},
   "outputs": [],
   "source": [
    "from catboost import CatBoostClassifier\n",
    "\n",
    "catboost = CatBoostClassifier(\n",
    "        task_type='GPU',\n",
    "        iterations=50,\n",
    "        learning_rate=0.35,\n",
    "        loss_function='MultiClass'\n",
    "        )\n",
    "\n",
    "catboost.fit(train_embs, train_dataset['Sentiment'], plot=True, verbose=False)\n",
    "print(classification_report(test_dataset['Sentiment'], catboost.predict(test_embs), target_names=targets))"
   ]
  },
  {
   "cell_type": "code",
   "execution_count": null,
   "metadata": {},
   "outputs": [],
   "source": [
    "from sklearn.linear_model import LogisticRegression\n",
    "logreg = LogisticRegression()\n",
    "\n",
    "logreg.fit(train_embs, train_dataset['Sentiment'])\n",
    "print(classification_report(test_dataset['Sentiment'], logreg.predict(test_embs), target_names=targets))"
   ]
  },
  {
   "cell_type": "code",
   "execution_count": null,
   "metadata": {},
   "outputs": [],
   "source": [
    "from sklearn.svm import SVC\n",
    "\n",
    "svc = SVC()\n",
    "svc.fit(train_embs, train_dataset['Sentiment'])\n",
    "print(classification_report(test_dataset['Sentiment'], svc.predict(test_embs), target_names=targets))"
   ]
  },
  {
   "cell_type": "code",
   "execution_count": null,
   "metadata": {},
   "outputs": [],
   "source": [
    "from sklearn.neural_network import MLPClassifier\n",
    "\n",
    "mlp = MLPClassifier((32, 8))\n",
    "mlp.fit(train_embs, train_dataset['Sentiment'])\n",
    "print(classification_report(test_dataset['Sentiment'], mlp.predict(test_embs), target_names=targets))"
   ]
  },
  {
   "cell_type": "code",
   "execution_count": null,
   "metadata": {},
   "outputs": [],
   "source": [
    "from sklearn.metrics import f1_score, accuracy_score\n",
    "from prettytable import PrettyTable\n",
    "\n",
    "def f1(model):\n",
    "    return int(f1_score(test_dataset['Sentiment'], model.predict(test_embs), average='weighted') * 100) / 100\n",
    "def acc(model):\n",
    "    return int(accuracy_score(test_dataset['Sentiment'], model.predict(test_embs)) * 100) / 100\n",
    "\n",
    "table = PrettyTable(['Model', 'F1 Weighted', 'Accuracy'])\n",
    "table.add_row(['CatBoost Classifier', f1(catboost), acc(catboost)])\n",
    "table.add_row(['Logistic Regression', f1(logreg), acc(logreg)])\n",
    "table.add_row(['Support Vector Machines', f1(svc), acc(svc)])\n",
    "table.add_row(['Multilayer Perceptron', f1(mlp), acc(mlp)])\n",
    "\n",
    "print(table)"
   ]
  },
  {
   "cell_type": "code",
   "execution_count": null,
   "metadata": {},
   "outputs": [],
   "source": [
    "encoder = torch.load('./models/all-MiniLM-L6-v2_ep3_lr1e-4.pt').to(device)"
   ]
  },
  {
   "cell_type": "code",
   "execution_count": null,
   "metadata": {},
   "outputs": [],
   "source": [
    "encoder = "
   ]
  },
  {
   "cell_type": "code",
   "execution_count": null,
   "metadata": {},
   "outputs": [],
   "source": [
    "train_embs = make_embeds(encoder.encoder, train_set)"
   ]
  },
  {
   "cell_type": "code",
   "execution_count": null,
   "metadata": {},
   "outputs": [],
   "source": [
    "test_embs = make_embeds(encoder.encoder, test_set)"
   ]
  },
  {
   "cell_type": "code",
   "execution_count": null,
   "metadata": {},
   "outputs": [],
   "source": [
    "from sklearn.decomposition import PCA\n",
    "pca = PCA(n_components=2, svd_solver='full')\n",
    "reduced = pca.fit_transform(test_embs)"
   ]
  },
  {
   "cell_type": "code",
   "execution_count": null,
   "metadata": {},
   "outputs": [],
   "source": [
    "df = pd.DataFrame(reduced, columns=['x1', 'x2'])\n",
    "df['labels'] = [revmap[x] for x in test_dataset['Sentiment']]\n",
    "sns.set(rc={'figure.figsize':(10,10)})\n",
    "sns.scatterplot(df, x='x1', y='x2', hue='labels', palette='rocket', hue_order=targets, linewidth=0, s=15)"
   ]
  },
  {
   "cell_type": "code",
   "execution_count": null,
   "metadata": {},
   "outputs": [],
   "source": [
    "from sklearn.decomposition import PCA\n",
    "pca = PCA(n_components=2, svd_solver='full')\n",
    "reduced = pca.fit_transform(train_embs)\n",
    "\n",
    "df = pd.DataFrame(reduced, columns=['x1', 'x2'])\n",
    "df['labels'] = [revmap[x] for x in train_dataset['Sentiment']]\n",
    "sns.set(rc={'figure.figsize':(10,10)})\n",
    "sns.scatterplot(df, x='x1', y='x2', hue='labels', palette='rocket', hue_order=targets, linewidth=0, s=15)"
   ]
  },
  {
   "cell_type": "code",
   "execution_count": null,
   "metadata": {},
   "outputs": [],
   "source": []
  }
 ],
 "metadata": {
  "kernelspec": {
   "display_name": "Python 3.10.9 64-bit",
   "language": "python",
   "name": "python3"
  },
  "language_info": {
   "codemirror_mode": {
    "name": "ipython",
    "version": 3
   },
   "file_extension": ".py",
   "mimetype": "text/x-python",
   "name": "python",
   "nbconvert_exporter": "python",
   "pygments_lexer": "ipython3",
   "version": "3.10.9"
  },
  "orig_nbformat": 4,
  "vscode": {
   "interpreter": {
    "hash": "3e5df068846dd857fd8f6e2337ec975361106f93a8ad476be75c82b4dc19b61a"
   }
  }
 },
 "nbformat": 4,
 "nbformat_minor": 2
}
